{
 "cells": [
  {
   "cell_type": "markdown",
   "id": "b707c94e",
   "metadata": {},
   "source": [
    "# Домашнее задание по Сотовым Системам Связи"
   ]
  },
  {
   "cell_type": "markdown",
   "id": "2f7c7798",
   "metadata": {},
   "source": [
    "\n",
    "\n",
    "<table>\n",
    "  <caption>Исходные данные</caption> \n",
    "  <tr>\n",
    "    <th rowspan=\"2\" class=\"first\"><div align=\"center\">№</div></th>\n",
    "    <th rowspan=\"2\"><div align=\"center\">Группа</div></th>\n",
    "    <th rowspan=\"2\"><div align=\"center\">Студент</div></th>\n",
    "    <th rowspan=\"2\"><div align=\"center\">Тип местности</div></th>   \n",
    "    <th colspan=\"2\"><div align=\"center\">Размер территории, км</div></th>\n",
    "    <th rowspan=\"2\"><div align=\"center\">N<sub>аб</sub></div></th>  \n",
    "    <th rowspan=\"2\"><div align=\"center\">T<sub>шэ</sub>, К</div></th>  \n",
    "    <th rowspan=\"2\"><div align=\"center\">Н<sub>бс</sub>, м</div></th> \n",
    "    <th rowspan=\"2\"><div align=\"center\">L<sub>обр</sub>, дБ</div></th> \n",
    "    <th colspan=\"2\"><div align=\"center\">MIMO</div></th>\n",
    "    <th rowspan=\"2\"><div align=\"center\">C, бит/с</div></th> \n",
    "    <th rowspan=\"2\"><div align=\"center\">P<sub>отк</sub></div></th> \n",
    "    <th rowspan=\"2\"><div align=\"center\">P<sub>ош</sub></div></th> \n",
    "  </tr>\n",
    "  <tr>\n",
    "    <td class=\"first\"><div align=\"center\">L1</div></td>\n",
    "    <td class=\"first\"><div align=\"center\">L2</div></td>\n",
    "    <td class=\"first\"><div align=\"center\">N<sub>пер</sub></div></td>\n",
    "    <td class=\"first\"><div align=\"center\">N<sub>пр</sub></div></td>\n",
    "  </tr>\n",
    "  <tr>\n",
    "    <td rowspan=\"1\" class=\"first\"><div align=\"center\">29</div></td>\n",
    "    <td><div align=\"center\">РЛ1-92</div></td>\n",
    "    <td><div align=\"center\">Кузищин Дмитрий</div></td>\n",
    "    <td><div align=\"center\">Город</div></td>\n",
    "    <td><div align=\"center\">17</div></td>\n",
    "    <td><div align=\"center\">19</div></td>\n",
    "    <td><div align=\"center\">1.5e6</div></td>\n",
    "    <td><div align=\"center\">920</div></td>\n",
    "    <td><div align=\"center\">40</div></td>\n",
    "    <td><div align=\"center\">4.4</div></td>\n",
    "    <td><div align=\"center\">6</div></td>\n",
    "    <td><div align=\"center\">6</div></td>\n",
    "    <td><div align=\"center\">5.09e4</div></td>\n",
    "    <td><div align=\"center\">8.7e-7</div></td>\n",
    "    <td><div align=\"center\">9.8e-7</div></td>\n",
    "  </tr>\n",
    "</table>"
   ]
  },
  {
   "cell_type": "code",
   "execution_count": 1,
   "id": "9b71ecaa",
   "metadata": {},
   "outputs": [],
   "source": [
    "import matplotlib.pyplot as plt\n",
    "import matplotlib.ticker\n",
    "import pandas as pd\n",
    "import numpy as np\n",
    "import math"
   ]
  },
  {
   "cell_type": "code",
   "execution_count": 2,
   "id": "f76a8fbf",
   "metadata": {},
   "outputs": [],
   "source": [
    "L1, L2 = 17000, 19000\n",
    "N_ab = 1.5e6\n",
    "T_sh = 920\n",
    "h_bs = 40\n",
    "L_ob = 4.4\n",
    "N_res, N_tr = 6, 6\n",
    "C = 5.09e4\n",
    "P_d, P_er = 8.7e-7, 9.8e-7"
   ]
  },
  {
   "cell_type": "markdown",
   "id": "aba88b44",
   "metadata": {},
   "source": [
    "## 1. Анализ исходных данных"
   ]
  },
  {
   "cell_type": "markdown",
   "id": "41aeafd9",
   "metadata": {},
   "source": [
    "`Активность` абонентов является определяющим фактором, влияющим на число базовых станций (БС) необходимых для покрытия выбранной территории. В зависимости от активности абонентов следует изменять расположение базовых станций. С ростом активности абонентов необходимо уменьшать расстояние между БС, а так же увеличивать количество БС и уменьшать мощность передатчиков используемых в БС для достижения необходимого качества связи."
   ]
  },
  {
   "cell_type": "markdown",
   "id": "671ef56d",
   "metadata": {},
   "source": [
    "<table>\n",
    "<tr>\n",
    "<th> Активность абонентов определяется:  </th>\n",
    "<th> Плотность населения в свою очередь определяется: </th>\n",
    "</tr>\n",
    "<tr>\n",
    "<td>\n",
    "                             \n",
    "* <div align=\"center\">типом местности</div>\n",
    "* <div align=\"center\">плотностью населения</div>\n",
    "\n",
    "</td>\n",
    "<td>\n",
    "\n",
    "* <div align=\"center\">количеством абонентов</div>\n",
    "* <div align=\"center\">размером территории</div>\n",
    "\n",
    "</td>\n",
    "</tr>\n",
    "</table>"
   ]
  },
  {
   "cell_type": "markdown",
   "id": "9d5837b1",
   "metadata": {},
   "source": [
    "Ниже приведены типовые значения активности абонентов в зависимости от местности покрытия сотовой системой связи."
   ]
  },
  {
   "cell_type": "markdown",
   "id": "10b4d504",
   "metadata": {},
   "source": [
    "|Тип местности| Активность абонентов|\n",
    "|-------------|---------------------|\n",
    "|Сельская местность, деревни|1…3%|\n",
    "|Крупные транспортные узлы и магистрали|2…5%|\n",
    "|Небольшие поселения, села поселки|3…6%|\n",
    "|Небольшие города, в том числе поселки городского типа|4…7%|\n",
    "|Крупные города|5…8%|\n",
    "|Бизнес центры|6…10%|"
   ]
  },
  {
   "cell_type": "code",
   "execution_count": 3,
   "id": "be0673bb",
   "metadata": {},
   "outputs": [],
   "source": [
    "A_ab = 0.06"
   ]
  },
  {
   "cell_type": "markdown",
   "id": "dd05d226",
   "metadata": {},
   "source": [
    "<table>\n",
    "<tr>\n",
    "<th><div align=\"center\">Определение MIMO:</div></th>\n",
    "<th><div align=\"center\">Графическое представление системы с MIMO:</div></th>\n",
    "</tr>\n",
    "<tr>\n",
    "<td>\n",
    "                             \n",
    "`Применение MIMO (Multiple Input Multiple Output)` - метод пространственного кодирования сигнала, позволяющий увеличить полосу пропускания канала, в котором передача данных и прием данных осуществляются системами из нескольких антенн. Передающие и приёмные антенны разносят так, чтобы корреляция между соседними антеннами была слабой.\n",
    "\n",
    "</td>\n",
    "<td>\n",
    "\n",
    "![Альтернативный текст](MIMO_with_building.png)\n",
    "\n",
    "</td>\n",
    "</tr>\n",
    "</table>"
   ]
  },
  {
   "cell_type": "markdown",
   "id": "0b2b7c3f",
   "metadata": {},
   "source": [
    "Применение MIMO антенных систем размерностью (m x n) позволяет увеличить пропускную способность системы за счет некоторого увеличения энергетического потенциала при декодировании сигнала и возможности подавления помех, вызванных многолучевым распространением сигнала.\n",
    "\n",
    "MIMO технология применяется в зависимости от местности: в городской среде MIMO применяется для уменьшения количества БС в зоне городской застройки (увеличении зоны покрытия), в сельской местности MIMO применяют обычно для повышения скорости передачи информации, но в данном случае используется крайне редко."
   ]
  },
  {
   "cell_type": "markdown",
   "id": "73fd154f",
   "metadata": {},
   "source": [
    "`Скорость передачи данных` (C) – это минимальная скорость, обеспечиваемая при подключении абонента, то есть такую скорость сотовая система сможет обеспечить в случае максимальной нагрузке (максимально допустимом количестве активных абонентов)"
   ]
  },
  {
   "cell_type": "markdown",
   "id": "11180764",
   "metadata": {},
   "source": [
    "`Вероятность отказа в соединении` (P<sub>отк</sub>) – предельное значение для системы, рассчитанное по формуле Эрланга.\n",
    "\n",
    "`Вероятность ошибки на бит` (P<sub>ош</sub>) – задается в качестве характеристики помехоустойчивости канала связи с учетом модуляции и выбранного при расчете помехоустойчивого кодирования."
   ]
  },
  {
   "cell_type": "markdown",
   "id": "176990dc",
   "metadata": {},
   "source": [
    "**Цели расчёта сети сотовой связи:**\n",
    "\n",
    "* удовлетворение всем параметрам заданным в техническом условии (ТУ)\n",
    "* минимизация  количества базовых станций \n",
    "* суммарная мощность передатчиков БС не более 10...50 Вт"
   ]
  },
  {
   "cell_type": "markdown",
   "id": "f30592f2",
   "metadata": {},
   "source": [
    "## 2. Оценка помехоустойчивости системы"
   ]
  },
  {
   "cell_type": "markdown",
   "id": "c92eb56d",
   "metadata": {},
   "source": [
    "При построении сотовой системы следует изначально выбрать размер кода символа и типа помехоустойчивого кодирования. В зависимости от скорости передачи информации следует использовать различные различные методы кодирования."
   ]
  },
  {
   "cell_type": "code",
   "execution_count": 4,
   "id": "ad5e73b5",
   "metadata": {},
   "outputs": [],
   "source": [
    "def choiceCodingMethod(C):\n",
    "    if C > 26e3:\n",
    "        print(\"Следует использовать турбо-кодирование\")\n",
    "    else:\n",
    "        print(\"Следует использовать свёрточное кодирование\")"
   ]
  },
  {
   "cell_type": "code",
   "execution_count": 5,
   "id": "09b6af4f",
   "metadata": {},
   "outputs": [
    {
     "name": "stdout",
     "output_type": "stream",
     "text": [
      "Следует использовать турбо-кодирование\n"
     ]
    }
   ],
   "source": [
    "choiceCodingMethod(C)"
   ]
  },
  {
   "cell_type": "markdown",
   "id": "12436879",
   "metadata": {},
   "source": [
    "Значения помехоустойчивости для различных видов модуляции, вероятности ошибки на бит, избыточности и способа\n",
    "кодирования представлены в таблице:\n",
    "\n",
    "![Таблица 2](Noise_correcting_coding.png)"
   ]
  },
  {
   "cell_type": "markdown",
   "id": "808baaf2",
   "metadata": {},
   "source": [
    "Визуализируем на примере QPSK и 64QAM сигнальные созвездия с хорошим отношением сигнал/помеха."
   ]
  },
  {
   "cell_type": "markdown",
   "id": "d7175664",
   "metadata": {},
   "source": [
    "<table>\n",
    "<tr>\n",
    "<th><div align=\"center\">QPSK:</div></th>\n",
    "<th><div align=\"center\">64QAM:</div></th>\n",
    "</tr>\n",
    "<tr>\n",
    "<td>\n",
    "                             \n",
    "![Альтернативный текст](QPSK.png)\n",
    "\n",
    "</td>\n",
    "<td>\n",
    "\n",
    "![Альтернативный текст](64QAM.png)\n",
    "\n",
    "</td>\n",
    "</tr>\n",
    "</table>"
   ]
  },
  {
   "cell_type": "markdown",
   "id": "9d3348a4",
   "metadata": {},
   "source": [
    "Так же продемонстрируем зависимость вероятности ошибки от увеличения уровня помехи на примере использования сигнального созвездия 8PSK. "
   ]
  },
  {
   "cell_type": "markdown",
   "id": "01b68cc4",
   "metadata": {},
   "source": [
    "<table>\n",
    "<tr>\n",
    "<th><div align=\"center\">8PSK в случае низкого отношения сигнал/помеха:</div></th>\n",
    "<th><div align=\"center\">8PSK в случае приемлемого отношения сигнал/помеха:</div></th>\n",
    "</tr>\n",
    "<tr>\n",
    "<td>\n",
    "                             \n",
    "![Альтернативный текст](8PSKNoise.png)\n",
    "\n",
    "</td>\n",
    "<td>\n",
    "\n",
    "![Альтернативный текст](8PSKNoiseLow.png)\n",
    "\n",
    "</td>\n",
    "</tr>\n",
    "</table>"
   ]
  },
  {
   "cell_type": "markdown",
   "id": "dcd0b137",
   "metadata": {},
   "source": [
    "В соответствии с условием будем рассматривать вероятность ошибки 1e-7 => предварительно возьмём 16QAM K<sub>пу</sub> = 2/3 => Значение помехоустойчивости = 6.9 дБ"
   ]
  },
  {
   "cell_type": "code",
   "execution_count": 9,
   "id": "36467162",
   "metadata": {},
   "outputs": [],
   "source": [
    "k_ncc = 2/3 # отношение объема полезных данных к передаваемым с учетом помехоустойчивого кодирования\n",
    "b = 1/4     # число бит несущего кода на один информационный бит при выбранном типе модуляции\n",
    "B = 1       # база сигнала, обратное значение индекса модуляции (сколько чипов идет на один бит несущего кода)\n",
    "m_v = 1     # размерность MIMO на передающей стороне (скоростное)\n",
    "k_pr = 1.8  # коэффициент расширения полосы для обеспечения требуемого уровня помехи при использовании соседний каналов (защ)\n",
    "L_ncc = 6.9 # минимальное значение сигнал/помеха необходимое для достижения заданной вероятности ошибки"
   ]
  },
  {
   "cell_type": "markdown",
   "id": "d13ca471",
   "metadata": {},
   "source": [
    "## 3. Расчёт полосы канала связи"
   ]
  },
  {
   "cell_type": "markdown",
   "id": "299eb308",
   "metadata": {},
   "source": [
    "Выделение частотного диапазона для системы сотовой связи требует достаточно сложного обоснования и согласования у соответствующих комиссий. В РФ распределение частотного спектра регулируется государственной комиссией по радиочастотам (ФЗ № 126 от 03.07.2003, ред. 03.08.2018). Следовательно, начинать расчет системы сотовой связи следует с оценки требований системы к полосе канала связи. "
   ]
  },
  {
   "cell_type": "markdown",
   "id": "1dbfd0e5",
   "metadata": {},
   "source": [
    "Система сотовой связи будет строго ограничена по частотному диапазону, независимо от выбора способа многостанционного доступа. Данный частотный ресурс будет делиться между каналами связи абонентской станции (АС) и БС. Следовательно предварительно необходимо оценить требования, которые предъявляются к частотному ресурсу одного канала АС-БС\n",
    "\n",
    "P.S. Частотный ресурс, выделяемый на один канал связи принято называть `полосой канала связи`, это связано с историческим распространением частотного разделения каналов (FDMA)."
   ]
  },
  {
   "cell_type": "code",
   "execution_count": 10,
   "id": "cf91ebc8",
   "metadata": {},
   "outputs": [
    {
     "name": "stdout",
     "output_type": "stream",
     "text": [
      "34357.5\n"
     ]
    }
   ],
   "source": [
    "def channelStrip(__C, __b, __B, __k_ncc, __m_v, __k_pr):\n",
    "    __dF_ch = (__k_pr * __C * __b * __B)/(__k_ncc * __m_v)\n",
    "    print(__dF_ch)\n",
    "    return __dF_ch\n",
    "\n",
    "dF_ch = channelStrip(C, b, B, k_ncc, m_v, k_pr)"
   ]
  },
  {
   "cell_type": "markdown",
   "id": "72a5e6f3",
   "metadata": {},
   "source": [
    "В результате для выбранных технических решений можно оценить помехоустойчивость системы, она должна с одной стороны быть наибольшей, а с другой – необходимо эффективно использовать частотный диапазон (увеличить количество каналов, обеспечиваемых одной БС). С увеличением размерности кластера увеличивается минимальное отношение сигнал/помеха, обеспечиваемое в соте. Следовательно, при увеличении размера кластера можно использовать более сложные виды модуляции, тем самым увеличивать скорость передачи информации, но понижать ёмкость сети и увеличивать требования к мощности используемого оборудования (энергетическая неэффективность).\n",
    "\n",
    "Ниже представлена таблица значений типовых отношений сигнал/помеха на краю соты кластера от высоты БС."
   ]
  },
  {
   "cell_type": "markdown",
   "id": "b7a8eb97",
   "metadata": {},
   "source": [
    "<table>\n",
    "  <caption>Отношение сигнал/помеха на краю соты кластера размерностью n, дБ</caption> \n",
    "  <tr>\n",
    "    <th rowspan=\"2\" class=\"first\"><div align=\"center\">Высота БС, м</div></th>\n",
    "    <th colspan=\"6\"><div align=\"center\">Размер кластера</div></th>\n",
    "  </tr>\n",
    "  <tr>\n",
    "    <td class=\"first\"><div align=\"center\">1</div></td>\n",
    "    <td class=\"first\"><div align=\"center\">3</div></td>\n",
    "    <td class=\"first\"><div align=\"center\">4</div></td>\n",
    "    <td class=\"first\"><div align=\"center\">7</div></td>\n",
    "    <td class=\"first\"><div align=\"center\">9</div></td>\n",
    "    <td class=\"first\"><div align=\"center\">12</div></td>\n",
    "  </tr>\n",
    "  <tr>\n",
    "    <td rowspan=\"1\" class=\"first\"><div align=\"center\">20</div></td>\n",
    "    <td><div align=\"center\">3,2</div></td>\n",
    "    <td><div align=\"center\">6,5</div></td>\n",
    "    <td><div align=\"center\">9,2</div></td>\n",
    "    <td><div align=\"center\">14,0</div></td>\n",
    "    <td><div align=\"center\">16,1</div></td>\n",
    "    <td><div align=\"center\">18,5</div></td>\n",
    "  </tr>\n",
    "  <tr>\n",
    "    <td rowspan=\"1\" class=\"first\"><div align=\"center\">30</div></td>\n",
    "    <td><div align=\"center\">2,6</div></td>\n",
    "    <td><div align=\"center\">5,9</div></td>\n",
    "    <td><div align=\"center\">8,5</div></td>\n",
    "    <td><div align=\"center\">13,2</div></td>\n",
    "    <td><div align=\"center\">15,2</div></td>\n",
    "    <td><div align=\"center\">17,5</div></td>\n",
    "  </tr>\n",
    "  <tr>\n",
    "    <td rowspan=\"1\" class=\"first\"><div align=\"center\">40</div></td>\n",
    "    <td><div align=\"center\">2,2</div></td>\n",
    "    <td><div align=\"center\">5,5</div></td>\n",
    "    <td><div align=\"center\">8,1</div></td>\n",
    "    <td><div align=\"center\">12,6</div></td>\n",
    "    <td><div align=\"center\">14,6</div></td>\n",
    "    <td><div align=\"center\">16,8</div></td>\n",
    "  </tr>\n",
    "  <tr>\n",
    "    <td rowspan=\"1\" class=\"first\"><div align=\"center\">50</div></td>\n",
    "    <td><div align=\"center\">1,9</div></td>\n",
    "    <td><div align=\"center\">5,2</div></td>\n",
    "    <td><div align=\"center\">7,7</div></td>\n",
    "    <td><div align=\"center\">12,1</div></td>\n",
    "    <td><div align=\"center\">14,1</div></td>\n",
    "    <td><div align=\"center\">16,3</div></td>\n",
    "  </tr>\n",
    "  <tr>\n",
    "    <td rowspan=\"1\" class=\"first\"><div align=\"center\">60</div></td>\n",
    "    <td><div align=\"center\">1,7</div></td>\n",
    "    <td><div align=\"center\">5,0</div></td>\n",
    "    <td><div align=\"center\">7,4</div></td>\n",
    "    <td><div align=\"center\">11,7</div></td>\n",
    "    <td><div align=\"center\">13,7</div></td>\n",
    "    <td><div align=\"center\">15,8</div></td>\n",
    "  </tr>\n",
    "</table>"
   ]
  },
  {
   "cell_type": "markdown",
   "id": "fbec433e",
   "metadata": {},
   "source": [
    "Предварительно для значения высоты БС 40 м и выбранного ранее вида модуляции минимальный размер кластера равен 4."
   ]
  },
  {
   "cell_type": "code",
   "execution_count": 15,
   "id": "1323d3d0",
   "metadata": {},
   "outputs": [],
   "source": [
    "N_cl = 3     # размер выбранного кластера \n",
    "N_sec = 1    # число секторов в соте\n",
    "L_cl = 5.5  # значение сигнал/помеха на краю любой соты одного диапазона"
   ]
  },
  {
   "cell_type": "markdown",
   "id": "bbcecdf9",
   "metadata": {},
   "source": [
    "Изобразим топологию выбранного кластера:"
   ]
  },
  {
   "cell_type": "markdown",
   "id": "87dfed0d",
   "metadata": {},
   "source": [
    "![Альтернативный текст](Claster.png)"
   ]
  },
  {
   "cell_type": "markdown",
   "id": "a54c40f6",
   "metadata": {},
   "source": [
    "## 4. Выбор многопользовательского доступа "
   ]
  },
  {
   "cell_type": "markdown",
   "id": "e5939ab1",
   "metadata": {},
   "source": [
    "Существует три основных способа многопользовательского доступа (разделения ресурса сети между абонентами):\n",
    "\n",
    "* `частотное разделение (FDMA)`\n",
    "* `временное разделение (TDMA)`\n",
    "* `кодовое разделение (CDMA)`"
   ]
  },
  {
   "cell_type": "markdown",
   "id": "e3bc2f56",
   "metadata": {},
   "source": [
    "В чистом виде данные методы никогда не использовались даже в 1 поколении сотовых систем связи. Методы доступа обычно используются совместно (гибридный формат) в различных пропорциях. Разберём их подробнее:\n",
    "\n",
    ">`FDMA` является наиболее распространенным методом разделения базовых станций. Разделены по частотам могут быть не только станции, но и абоненты в пределах одной соты. В этом случае в сети допускается асинхронная работа, но следует выбирать коэффициент запаса достаточно большой - в пределах **(1,7; 1,9)** из-за необходимости выделения защитных интервалов частот. \n",
    ">>* К сожалению, `FDMA` сильнее всего подвержен замираниям сигнала, поэтому его применение в городской среде без дополнительных конструктивных решений крайне неэффективно.\n",
    ">>* В настоящее время стандарты, использующие `FDMA` в качестве основного метода многопользовательского доступа, применяются в сельских и малозаселённых районах, а также в качестве систем с высокой надежностью передачи голосовых данных, например, в аварийных системах.\n",
    "\n",
    ">`TDMA` применяется не во всех стандартах сотовой связи, однако активно используется для передачи данных пакетным способом, активно применяется со времен стандартов второго поколения сотовой связи. Необходимо выбирать коэффициент запаса **(1,1; 1,3)**\n",
    ">>`TDMA` позволяет передавать пакеты данных с высокой скоростью, однако очень требователен к синхронизации АС и БС. Данный метод применим для всех типов местности.\n",
    "\n",
    ">`CDMA` наиболее активно использовался в американских стандартах сотовой связи со времен 2 поколения. В данном случае коэффициент запаса необходимо выбирать в пределах **(1,2; 1,6)**.\n",
    ">>* При использовании `CDMA` в качестве основного метода разделения абонентов часто используется кластер с размерностью 1, то есть вся сеть работает на одной частоте.\n",
    ">>* Для увеличения емкости общий диапазон системы делится на несколько поддиапазонов и на каждой БС используется несколько каналов `CDMA`, разделённых по частоте – метод `MC-CDMA`. \n",
    ">>* В настоящее время применяется достаточно широко для любых типов местности"
   ]
  },
  {
   "cell_type": "markdown",
   "id": "00ffd27e",
   "metadata": {},
   "source": [
    "В качестве основного метода многопользовательского доступа для нашей сотовой системы выберем FDMA. Следовательно k<sub>зап</sub> = 1.7"
   ]
  },
  {
   "cell_type": "code",
   "execution_count": 16,
   "id": "b1418cb0",
   "metadata": {},
   "outputs": [],
   "source": [
    "k_margin = 1.7"
   ]
  },
  {
   "cell_type": "markdown",
   "id": "5256bbf9",
   "metadata": {},
   "source": [
    "## 5. Выбор частотного диапазона"
   ]
  },
  {
   "cell_type": "markdown",
   "id": "5dc9a12f",
   "metadata": {},
   "source": [
    "<table>\n",
    "<tr>\n",
    "<th> <div align=\"center\">Доступные полосы частот и несущие: </div> </th>\n",
    "<th> <div align=\"center\">Пояснение:</div> </th>\n",
    "</tr>\n",
    "<tr>\n",
    "<td>\n",
    "         \n",
    "|Несущая частота, МГц| 450 | 900 | 1800 | 2100 | 2600 |\n",
    "|--------------------|-----|-----|------|------|------|\n",
    "|    Полоса, МГц     |  4  |  20 |  40  |  60  |  70  |\n",
    "    \n",
    "</td>\n",
    "<td>\n",
    "\n",
    "* <div align=\"left\">Основные несущие и выделяемые для них полосы приведены в таблице</div>\n",
    "* <div align=\"left\">Также необходимо помнить, что чем больше частота сигнала, тем больше затухание радиоволн при распространении над заданным типом местности.</div>\n",
    "\n",
    "</td>\n",
    "</tr>\n",
    "</table>"
   ]
  },
  {
   "cell_type": "markdown",
   "id": "717c29f3",
   "metadata": {},
   "source": [
    "Предварительно выберем полосу системы в 60 МГц с несущей 2100 МГц."
   ]
  },
  {
   "cell_type": "code",
   "execution_count": 17,
   "id": "19005e6f",
   "metadata": {},
   "outputs": [],
   "source": [
    "dF_sys = 60e6\n",
    "f0 = 2100e6"
   ]
  },
  {
   "cell_type": "markdown",
   "id": "991e3f8c",
   "metadata": {},
   "source": [
    "## 6. Расчёт количества базовых станций"
   ]
  },
  {
   "cell_type": "markdown",
   "id": "0eade4ab",
   "metadata": {},
   "source": [
    "Число каналов, которое обеспечивается на одной БС:"
   ]
  },
  {
   "cell_type": "code",
   "execution_count": 13,
   "id": "cdcf8330",
   "metadata": {},
   "outputs": [],
   "source": [
    "def channelsNumberBaseStation(__dF_sys, __dF_ch, __N_cl, __N_sec, __k_margin):\n",
    "    __M = int(__dF_sys/(__dF_ch * __N_cl * __N_sec * __k_margin))\n",
    "    print(__M)\n",
    "    return __M"
   ]
  },
  {
   "cell_type": "code",
   "execution_count": 18,
   "id": "5ced552c",
   "metadata": {},
   "outputs": [
    {
     "name": "stdout",
     "output_type": "stream",
     "text": [
      "342\n"
     ]
    }
   ],
   "source": [
    "M = channelsNumberBaseStation(dF_sys, dF_ch, N_cl, N_sec, k_margin)"
   ]
  },
  {
   "cell_type": "code",
   "execution_count": 27,
   "id": "9266d6c4",
   "metadata": {},
   "outputs": [],
   "source": [
    "def Erlang(__M, __A_sys):\n",
    "    if(M <= 120):\n",
    "        first = np.power(np.power(__A_sys, __M/2)/np.power((np.math.factorial(__M)), 1/2), 2)\n",
    "        second = [np.power(np.power(__A_sys, k/2)/np.power(np.math.factorial(k), 1/2), 2) for k in range(M+1)]\n",
    "        second = sum(second)\n",
    "        p = first/second\n",
    "    else:\n",
    "        first = (np.power((__A_sys * math.e / __M), __M)*(1 / np.sqrt(2 * np.pi * __M)))\n",
    "        second = np.power(math.e, -1 * __A_sys * (1 - np.power(math.e, (-1 * __M * math.log(1.85114 * __A_sys)) / (__A_sys - 0.5))))\n",
    "        p = first * second\n",
    "    return p"
   ]
  },
  {
   "cell_type": "code",
   "execution_count": 29,
   "id": "33c24c5b",
   "metadata": {},
   "outputs": [
    {
     "name": "stdout",
     "output_type": "stream",
     "text": [
      "Число абонентов в соте:  4418\n",
      "Суммарная активность в одной соте:  265.08\n",
      "Вероятность отказа расчётная:  8.631799186465817e-07\n",
      "Вероятность отказа по условию :  8.7e-07\n"
     ]
    }
   ],
   "source": [
    "N_ab_in_sot = 1\n",
    "\n",
    "while(1):\n",
    "    A_sys = N_ab_in_sot * A_ab\n",
    "    P_d_calc = Erlang(M, A_sys)\n",
    "    if(P_d_calc < P_d):\n",
    "        N_ab_in_sot += 1\n",
    "    else:\n",
    "        break\n",
    "\n",
    "N_ab_in_sot -= 1\n",
    "A_sys = N_ab_in_sot * A_ab\n",
    "P_d_calc = Erlang(M, A_sys)\n",
    "\n",
    "print(\"Число абонентов в соте: \", N_ab_in_sot)\n",
    "print(\"Суммарная активность в одной соте: \", A_sys)\n",
    "print(\"Вероятность отказа расчётная: \", P_d_calc)\n",
    "print(\"Вероятность отказа по условию : \", P_d)"
   ]
  },
  {
   "cell_type": "code",
   "execution_count": 35,
   "id": "f1b8bc52",
   "metadata": {},
   "outputs": [],
   "source": [
    "def SquareSot(__A_sys, __A_ab, __N_sec, __L1, __L2, __N_ab):\n",
    "    __S = (__A_sys/__A_ab) * (__N_sec) * (__L1 * __L2 / __N_ab)\n",
    "    __R = np.sqrt((2 * __S) / (3 * np.sqrt(3)))\n",
    "    print(\"Площадь соты составляет [кв.м]: \", __S)\n",
    "    print(\"Радиус соты составляет [м]: \", __R)\n",
    "    return __S, __R"
   ]
  },
  {
   "cell_type": "code",
   "execution_count": 37,
   "id": "0542df73",
   "metadata": {},
   "outputs": [
    {
     "name": "stdout",
     "output_type": "stream",
     "text": [
      "Площадь соты составляет [кв.м]:  951342.6666666667\n",
      "Радиус соты составляет [м]:  605.1214449411933\n"
     ]
    }
   ],
   "source": [
    "S_sot, R_sot = SquareSot(A_sys, A_ab, N_sec, L1, L2, N_ab)"
   ]
  },
  {
   "cell_type": "code",
   "execution_count": 39,
   "id": "d3d79cc5",
   "metadata": {},
   "outputs": [],
   "source": [
    "def numberBS(__A_ab, __A_sys, __N_ab, __N_sec):\n",
    "    __N_BS = int((__A_ab * __N_ab) / (__A_sys * __N_sec)) + 1 \n",
    "    print(\"Число базовых станций, обеспечивающих покрытие заданной зоны\", __N_BS)\n",
    "    return __N_BS"
   ]
  },
  {
   "cell_type": "code",
   "execution_count": 40,
   "id": "3ae86bf7",
   "metadata": {},
   "outputs": [
    {
     "name": "stdout",
     "output_type": "stream",
     "text": [
      "Число базовых станций, обеспечивающих покрытие заданной зоны 340\n"
     ]
    }
   ],
   "source": [
    "N_sot = numberBS(A_ab, A_sys, N_ab, N_sec)"
   ]
  },
  {
   "cell_type": "markdown",
   "id": "4c1b3f40",
   "metadata": {},
   "source": [
    "P.S. Данные формулы используются для приблизительной оценки реальных систем сотовой связи в следствии следующих причин:\n",
    "\n",
    "* На реальной местности возможен большой перепад плотности населения, за счет чего невозможно выделить среднее значение активности абонента для большой территории\n",
    "* Часто соты устанавливаются из соображений пиковой активности абонентов. В основном БС устанавливают так, чтобы обеспечить пиковую пропускную способность (достичь максимальной скорости передачи информации). Однако в реальных условиях часто ориентируются на пиковую активность абонентов, то есть устанавливают БС чаще, чем требуется из исходных расчётов. Например, вокруг крупного бизнес центра может быть несколько БС для разделения нагрузки, а не одна с большой емкостью (для обеспечения той же скорости передачи, при увеличении активности абонентов, необходимо увеличить количество БС для покрытия данной территории);\n",
    "* При уточнении расчета на последующих стадиях производится перераспределение БС с учетом распространения сигнала на местности"
   ]
  },
  {
   "cell_type": "markdown",
   "id": "10264d34",
   "metadata": {},
   "source": [
    "## 7. Оценка потерь на распространение сигнала. Модель Окамуры-Хата."
   ]
  },
  {
   "cell_type": "markdown",
   "id": "29de397b",
   "metadata": {},
   "source": [
    "Энергетический расчет для сотовых систем связи без учета особенностей распространения сигнала в зависимости от местности даёт грубую оценку энергетики, так как рельеф и застройка местности в зоне действия сети могут быть различные и их сложно аппроксимировать шероховатостью."
   ]
  },
  {
   "cell_type": "markdown",
   "id": "ddb2e3c9",
   "metadata": {},
   "source": [
    "Существует несколько статистических моделей потерь при распространении, основанных на экспериментальной оценке потерь для различных условий. \n",
    "\n",
    "Статистические модели в основном делятся по следующей классификации:\n",
    "\n",
    "* открытые районы, участки с очень небольшим числом препятствий, таких как деревья или строения\n",
    "* пригородные зоны, участки с небольшими строениями и деревьями, находящимися поблизости от подвижного объекта\n",
    "* городские районы, участки, плотно застроенные многоэтажными домами"
   ]
  },
  {
   "cell_type": "markdown",
   "id": "ca762798",
   "metadata": {},
   "source": [
    "Мы будем использовать для расчёта потерь на распространие модель Окамуры-Хата"
   ]
  },
  {
   "cell_type": "code",
   "execution_count": 49,
   "id": "30862482",
   "metadata": {},
   "outputs": [],
   "source": [
    "def alfa(__h_ab, __f0, __locality):\n",
    "    if(__locality == \"Suburb\" or __locality == \"Countryside\"):\n",
    "        return (1.1 * math.log10(__f0) - 0.7) * __h_ab - 1.56 * math.log10(__f0) + 0.8  # дБ\n",
    "    if(__locality == \"City\"):\n",
    "        if(__f0 < 400):\n",
    "            print(\"alfa:\", 8.28 * (math.log10(91.54 * __h_ab))**2 - 1.1)\n",
    "            return 8.28 * (math.log10(91.54 * __h_ab))**2 - 1.1\n",
    "        else:\n",
    "            print(\"alfa:\", 3.2 * (math.log10(11.755 * __h_ab))**2 - 4.97)\n",
    "            return 3.2 * (math.log10(11.755 * __h_ab))**2 - 4.97"
   ]
  },
  {
   "cell_type": "code",
   "execution_count": 50,
   "id": "9508e72b",
   "metadata": {},
   "outputs": [],
   "source": [
    "def propagationLoss(__f0, __h_bs, __R_sot, __h_ab, __locality):\n",
    "    \n",
    "    liambda = 3e8 / __f0\n",
    "    __f0 = __f0 / 1e6                                         # преобразование в МГц\n",
    "    L0 = 20 * math.log10(4 * np.pi * __R_sot / liambda)       # дБ\n",
    "    print(\"L0:\", L0)\n",
    "    \n",
    "    L = 69.55 + 26.16 * math.log10(__f0) - 13.82 * math.log10(__h_bs) \\\n",
    "        + (44.9 - 6.551 * math.log10(__h_bs)) * math.log10(__R_sot / 1000) \\\n",
    "        - 3.2 * (math.log10(11.75 * __h_ab))**2 - alfa(__h_ab, __f0, __locality) - L0  # дБ\n",
    "    \n",
    "    if(__locality == \"City\"):\n",
    "        return L\n",
    "    if(__locality == \"Suburb\"):\n",
    "        return L - 2 * math.log10((__f0 / 28)**2) - 5.4\n",
    "    if(__locality == \"Countryside\"):\n",
    "        return L - 4.78 * (math.log10(__f0))**2 + 18.33 * math.log10(__f0) - 40.94"
   ]
  },
  {
   "cell_type": "code",
   "execution_count": 53,
   "id": "aeeb9bd1",
   "metadata": {},
   "outputs": [
    {
     "name": "stdout",
     "output_type": "stream",
     "text": [
      "L0: 94.52300896468032\n",
      "alfa: 0.4435887794172979\n",
      "Потери на распространение составляют:  26.434452550440085 [дБ]\n"
     ]
    }
   ],
   "source": [
    "h_ab = 1.7 # 1.6...1.8\n",
    "loss = propagationLoss(f0, h_bs, R_sot, h_ab, \"City\") # [City, Suburb, Countryside]\n",
    "print(\"Потери на распространение составляют: \", loss, \"[дБ]\")"
   ]
  },
  {
   "cell_type": "markdown",
   "id": "80e92aba",
   "metadata": {},
   "source": [
    "## 8. Расчёт энергетики линии радиосвязи"
   ]
  },
  {
   "cell_type": "markdown",
   "id": "59c20661",
   "metadata": {},
   "source": [
    "При проектировании сотовой системы связи одной из важных характеристик является требуемая `мощность передатчика базовой станции`, ее можно рассчитать, воспользовавшись уравнением радиосвязи."
   ]
  },
  {
   "cell_type": "markdown",
   "id": "8bc94cab",
   "metadata": {},
   "source": [
    "В расчёте будем полагать, что необходимо рассчитать суммарную мощность `всех передатчиков` на `одной базовой станции`,\n",
    "которые используются для `всех секторов`, `всех антенн MIMO` и `всех каналов базовой станции`."
   ]
  },
  {
   "cell_type": "markdown",
   "id": "f16a44b6",
   "metadata": {},
   "source": [
    "При расчёте энергетики необходимо учитывать режим использования MIMO. Разберём его подробнее:\n",
    "\n",
    ">`Если MIMO используется для увеличения энергетики` \n",
    ">>В данном случае мощность выделяется на каждую из передающих антенн независимо, а на приёмной стороне потоки складываются когерентно.\n",
    "\n",
    ">`Если MIMO используется для увеличения пропускной способности в m раз`\n",
    ">>мощность делится поровну между антеннами, каждая антенна излучает свой информационный поток, каждый из них принимается m антеннами, сигнал которых складывается когерентно. В этом случае увеличения энергетики канала не происходит.\n",
    "\n"
   ]
  },
  {
   "cell_type": "code",
   "execution_count": 81,
   "id": "77f2b825",
   "metadata": {},
   "outputs": [
    {
     "name": "stdout",
     "output_type": "stream",
     "text": [
      "12.4\n",
      "17.378008287493753\n"
     ]
    }
   ],
   "source": [
    "m_p = 6                # размерность MIMO на передающей стороне (мощностное)\n",
    "SDR = L_ncc + L_cl     # дБ\n",
    "print(SDR)\n",
    "SNR_N = 10**(SDR / 10)\n",
    "print(SNR_N)"
   ]
  },
  {
   "cell_type": "markdown",
   "id": "60d09924",
   "metadata": {},
   "source": [
    "Коэффициент усиления антенн для базовой станции (`G_tran`):\n",
    "* Без секторного разделения абонентов можно взять равным 3 дБ\n",
    "* Для БС содержащей 3 отдельных сектора – 5 дБ\n",
    "* Для БС с 6-ю секторами – 7 дБ "
   ]
  },
  {
   "cell_type": "code",
   "execution_count": 83,
   "id": "185a3231",
   "metadata": {},
   "outputs": [
    {
     "name": "stdout",
     "output_type": "stream",
     "text": [
      "1.9952623149688795\n"
     ]
    }
   ],
   "source": [
    "G_tran = 3\n",
    "G_tran_N = 10**(G_tran / 10)\n",
    "print(G_tran_N)"
   ]
  },
  {
   "cell_type": "code",
   "execution_count": 90,
   "id": "d5320967",
   "metadata": {},
   "outputs": [],
   "source": [
    "def powerTransmitter(__SNR_N, __M, __N_sec, __R_sot, __G_tran_N, __f0, __loss, __L_ob, __C, __T_sh, __m_p):\n",
    "    k_b = 1.380649e-23\n",
    "    liambda = 3e8 / __f0\n",
    "    L_ob_N = 10**(__L_ob / 10)\n",
    "    loss_N = 10**(__loss / 10)\n",
    "    print(\"Потери:\", L_ob_N * loss_N)\n",
    "    first = __SNR_N * __M * __N_sec / __m_p\n",
    "    second = ((4 * np.pi * __R_sot)**2) / (__G_tran_N * (liambda**2))\n",
    "    third = __C * k_b * __T_sh * loss_N * L_ob_N\n",
    "    return first * second * third"
   ]
  },
  {
   "cell_type": "code",
   "execution_count": 91,
   "id": "1001c77a",
   "metadata": {},
   "outputs": [
    {
     "name": "stdout",
     "output_type": "stream",
     "text": [
      "Потери: 1211.8399207627863\n",
      "Суммарная мощность подводимая к БС: 1.1020718249024435 [Вт]\n"
     ]
    }
   ],
   "source": [
    "P_trans = powerTransmitter(SNR_N, M, N_sec, R_sot, G_tran_N, f0, loss, L_ob, C, T_sh, m_p) \n",
    "print(\"Суммарная мощность подводимая к БС:\", P_trans, \"[Вт]\") # суммарная мощность передатчиков БС не более 10...50 Вт"
   ]
  },
  {
   "cell_type": "code",
   "execution_count": 87,
   "id": "ec07b6d1",
   "metadata": {},
   "outputs": [
    {
     "data": {
      "text/plain": [
       "0.14285714285714285"
      ]
     },
     "execution_count": 87,
     "metadata": {},
     "output_type": "execute_result"
    }
   ],
   "source": [
    "3e8 / f0"
   ]
  },
  {
   "cell_type": "markdown",
   "id": "548a0a3c",
   "metadata": {},
   "source": [
    "## 9. Расчёт максимальной скорости передачи данных"
   ]
  },
  {
   "cell_type": "markdown",
   "id": "be49bfb5",
   "metadata": {},
   "source": [
    "При уменьшении расстояния между абонентской и базовой станциями, у линии связи появляется избыточный энергетический потенциал, следовательно, увеличивается отношение сигнал шум. За счет этого увеличения можно увеличить скорость передачи информации."
   ]
  },
  {
   "cell_type": "markdown",
   "id": "1c1ef97c",
   "metadata": {},
   "source": [
    "Для увеличения скорости передачи данных можно варьировать числом бит в модуляционном символе  , типом и скоростью помехоустойчивого кодирования и режимами работы MIMO. Полоса канала связи и прочие рассчитанные параметры при этом остаются неизменными."
   ]
  },
  {
   "cell_type": "code",
   "execution_count": 92,
   "id": "34602e42",
   "metadata": {},
   "outputs": [],
   "source": [
    "def signalNoise(__P_trans, __m_p, __M, __N_sec, __R, __G_tran_N, __f0, __loss, __L_ob, __C, __T_sh):\n",
    "    k_b = 1.380649e-23\n",
    "    liambda = 3e8 / __f0\n",
    "    L_ob_N = 10**(__L_ob / 10)\n",
    "    loss_N = 10**(__loss / 10)\n",
    "    first = (__P_trans * __m_p) / (__M * __N_sec)\n",
    "    second = (__G_tran_N * (liambda**2)) / ((4 * np.pi * __R)**2)\n",
    "    third = 1 / (__C * k_b * __T_sh * loss_N * L_ob_N)\n",
    "    return first * second * third"
   ]
  },
  {
   "cell_type": "code",
   "execution_count": 93,
   "id": "fc5795e2",
   "metadata": {},
   "outputs": [],
   "source": [
    "def rSotCalc(__SNR, __P_trans, __m_p, __M, __N_sec, __G_tran_N, __f0, __loss, __L_ob, __C, __T_sh):\n",
    "    k_b = 1.380649e-23\n",
    "    liambda = 3e8 / __f0\n",
    "    \n",
    "    L_ob_N = 10**(__L_ob / 10)\n",
    "    loss_N = 10**(__loss / 10)\n",
    "    __SNR_N = 10**(__SNR / 10)\n",
    "    \n",
    "    first = (__P_trans * __m_p) / (__M * __N_sec)\n",
    "    second = (__G_tran_N * (liambda**2)) / (__SNR_N * (4 * np.pi)**2)\n",
    "    third = 1 / (__C * k_b * __T_sh * loss_N * L_ob_N)\n",
    "    \n",
    "    return np.sqrt(first * second * third)"
   ]
  },
  {
   "cell_type": "code",
   "execution_count": 96,
   "id": "5b3c114b",
   "metadata": {},
   "outputs": [],
   "source": [
    "def shannon(__dF_ch, __k_pr, __N_res, __m_v, __SNR):\n",
    "    dF = __dF_ch / __k_pr\n",
    "    mimo = min([__m_v, __N_res])\n",
    "    return dF * mimo * math.log2(1 + __SNR) / 1000"
   ]
  },
  {
   "cell_type": "code",
   "execution_count": 97,
   "id": "efa0a72c",
   "metadata": {},
   "outputs": [
    {
     "data": {
      "text/plain": [
       "80.16575384183115"
      ]
     },
     "execution_count": 97,
     "metadata": {},
     "output_type": "execute_result"
    }
   ],
   "source": [
    "shannon(dF_ch, k_pr, N_res, m_v, SNR_N)"
   ]
  },
  {
   "cell_type": "code",
   "execution_count": 99,
   "id": "8e5d38ee",
   "metadata": {},
   "outputs": [
    {
     "data": {
      "text/plain": [
       "19087.5"
      ]
     },
     "execution_count": 99,
     "metadata": {},
     "output_type": "execute_result"
    }
   ],
   "source": [
    "dF_ch / k_pr"
   ]
  },
  {
   "cell_type": "markdown",
   "id": "d3da5e9b",
   "metadata": {},
   "source": [
    "#### Вычислим предельную скорость передачи в соответствии с формулой Шеннона"
   ]
  },
  {
   "cell_type": "code",
   "execution_count": 100,
   "id": "5e39c232",
   "metadata": {},
   "outputs": [],
   "source": [
    "R_massive = np.linspace(40, R_sot, 1000)\n",
    "SNR_calc = [signalNoise(P_trans, m_p, M, N_sec, i, G_tran_N, f0, loss, L_ob, C, T_sh) for i in R_massive]\n",
    "SNR_calc_dB = [10 * math.log10(i) for i in SNR_calc]\n",
    "C_calc = [shannon(dF_ch, k_pr, N_res, m_v, i) for i in SNR_calc]"
   ]
  },
  {
   "cell_type": "markdown",
   "id": "361d144e",
   "metadata": {},
   "source": [
    "#### В соответствии с таблицей модкода определим новые параметры помехоустойчивого кодирования и используемой модуляции "
   ]
  },
  {
   "cell_type": "code",
   "execution_count": 30,
   "id": "aa1b5303",
   "metadata": {},
   "outputs": [],
   "source": [
    "speedRating = [[\"Расстояние от БС\", R_sot, 839.62, 756.98, 674.66, 548.38, 500.13, 450.90, 401.87, 315.56, 287.79, 259.47, 231.25],\n",
    "              [\"Cкорость системы [кбит/c]\", C/1000, 57.26250, 63.62500, 66.80625, 76.35000, 85.89375, 95.43750, 100.20938, 101.800, 114.525, 127.250, 133.6125],\n",
    "              [\"Число бит в модуляционном символе\", b, 1/4, 1/4, 1/4, 1/6, 1/6, 1/6, 1/6, 1/8, 1/8, 1/8, 1/8],\n",
    "              [\"Kпу\", k_ncc, 3/4, 5/6, 7/8, 2/3, 3/4, 5/6, 7/8, 2/3, 3/4, 5/6, 7/8]]"
   ]
  },
  {
   "cell_type": "code",
   "execution_count": 31,
   "id": "63a0a98f",
   "metadata": {},
   "outputs": [
    {
     "name": "stdout",
     "output_type": "stream",
     "text": [
      "[920.6246151228693, 839.6196279699194, 756.9768231451305, 674.6563037735999, 548.3812316296586, 500.1296273455923, 450.90243707640906, 401.8672200511419, 315.5604615658436, 287.7945614202033, 259.46727013642015, 231.25044792408644]\n"
     ]
    }
   ],
   "source": [
    "SNR_massive = [15, 15.8, 16.7, 17.7, 19.5, 20.3, 21.2, 22.2, 24.3, 25.1, 26, 27]\n",
    "rSot_calc = [rSotCalc(i ,P_trans, m_p, M, N_sec, G_tran_N, f0, loss, L_ob, C, T_sh) for i in SNR_massive]\n",
    "C_sys = [50.9, 57.26250, 63.62500, 66.80625, 76.35000, 85.89375, 95.43750, 100.20938, 101.800, 114.525, 127.250, 133.6125]\n",
    "print(rSot_calc)"
   ]
  },
  {
   "cell_type": "markdown",
   "id": "fcb3bd9a",
   "metadata": {},
   "source": [
    "#### Отобразим вычисленные значения в таблице"
   ]
  },
  {
   "cell_type": "code",
   "execution_count": 245,
   "id": "6b15f11d",
   "metadata": {
    "scrolled": false
   },
   "outputs": [
    {
     "data": {
      "text/html": [
       "<div>\n",
       "<style scoped>\n",
       "    .dataframe tbody tr th:only-of-type {\n",
       "        vertical-align: middle;\n",
       "    }\n",
       "\n",
       "    .dataframe tbody tr th {\n",
       "        vertical-align: top;\n",
       "    }\n",
       "\n",
       "    .dataframe thead th {\n",
       "        text-align: right;\n",
       "    }\n",
       "</style>\n",
       "<table border=\"1\" class=\"dataframe\">\n",
       "  <thead>\n",
       "    <tr style=\"text-align: right;\">\n",
       "      <th></th>\n",
       "      <th>Название</th>\n",
       "      <th>1</th>\n",
       "      <th>2</th>\n",
       "      <th>3</th>\n",
       "      <th>4</th>\n",
       "      <th>5</th>\n",
       "      <th>6</th>\n",
       "      <th>7</th>\n",
       "      <th>8</th>\n",
       "      <th>9</th>\n",
       "      <th>10</th>\n",
       "      <th>11</th>\n",
       "      <th>12</th>\n",
       "    </tr>\n",
       "  </thead>\n",
       "  <tbody>\n",
       "    <tr>\n",
       "      <th>0</th>\n",
       "      <td>Расстояние от БС</td>\n",
       "      <td>920.624615</td>\n",
       "      <td>839.6200</td>\n",
       "      <td>756.980000</td>\n",
       "      <td>674.66000</td>\n",
       "      <td>548.380000</td>\n",
       "      <td>500.130000</td>\n",
       "      <td>450.900000</td>\n",
       "      <td>401.870000</td>\n",
       "      <td>315.560000</td>\n",
       "      <td>287.790</td>\n",
       "      <td>259.470000</td>\n",
       "      <td>231.2500</td>\n",
       "    </tr>\n",
       "    <tr>\n",
       "      <th>1</th>\n",
       "      <td>Cкорость системы [кбит/c]</td>\n",
       "      <td>50.900000</td>\n",
       "      <td>57.2625</td>\n",
       "      <td>63.625000</td>\n",
       "      <td>66.80625</td>\n",
       "      <td>76.350000</td>\n",
       "      <td>85.893750</td>\n",
       "      <td>95.437500</td>\n",
       "      <td>100.209380</td>\n",
       "      <td>101.800000</td>\n",
       "      <td>114.525</td>\n",
       "      <td>127.250000</td>\n",
       "      <td>133.6125</td>\n",
       "    </tr>\n",
       "    <tr>\n",
       "      <th>2</th>\n",
       "      <td>Число бит в модуляционном символе</td>\n",
       "      <td>0.250000</td>\n",
       "      <td>0.2500</td>\n",
       "      <td>0.250000</td>\n",
       "      <td>0.25000</td>\n",
       "      <td>0.166667</td>\n",
       "      <td>0.166667</td>\n",
       "      <td>0.166667</td>\n",
       "      <td>0.166667</td>\n",
       "      <td>0.125000</td>\n",
       "      <td>0.125</td>\n",
       "      <td>0.125000</td>\n",
       "      <td>0.1250</td>\n",
       "    </tr>\n",
       "    <tr>\n",
       "      <th>3</th>\n",
       "      <td>Kпу</td>\n",
       "      <td>0.666667</td>\n",
       "      <td>0.7500</td>\n",
       "      <td>0.833333</td>\n",
       "      <td>0.87500</td>\n",
       "      <td>0.666667</td>\n",
       "      <td>0.750000</td>\n",
       "      <td>0.833333</td>\n",
       "      <td>0.875000</td>\n",
       "      <td>0.666667</td>\n",
       "      <td>0.750</td>\n",
       "      <td>0.833333</td>\n",
       "      <td>0.8750</td>\n",
       "    </tr>\n",
       "  </tbody>\n",
       "</table>\n",
       "</div>"
      ],
      "text/plain": [
       "                            Название           1         2           3  \\\n",
       "0                   Расстояние от БС  920.624615  839.6200  756.980000   \n",
       "1          Cкорость системы [кбит/c]   50.900000   57.2625   63.625000   \n",
       "2  Число бит в модуляционном символе    0.250000    0.2500    0.250000   \n",
       "3                                Kпу    0.666667    0.7500    0.833333   \n",
       "\n",
       "           4           5           6           7           8           9  \\\n",
       "0  674.66000  548.380000  500.130000  450.900000  401.870000  315.560000   \n",
       "1   66.80625   76.350000   85.893750   95.437500  100.209380  101.800000   \n",
       "2    0.25000    0.166667    0.166667    0.166667    0.166667    0.125000   \n",
       "3    0.87500    0.666667    0.750000    0.833333    0.875000    0.666667   \n",
       "\n",
       "        10          11        12  \n",
       "0  287.790  259.470000  231.2500  \n",
       "1  114.525  127.250000  133.6125  \n",
       "2    0.125    0.125000    0.1250  \n",
       "3    0.750    0.833333    0.8750  "
      ]
     },
     "execution_count": 245,
     "metadata": {},
     "output_type": "execute_result"
    }
   ],
   "source": [
    "pd.DataFrame(speedRating, columns=[\"Название\", \"1\", \"2\", \"3\", \"4\", \"5\", \"6\", \"7\", \"8\", \"9\", \"10\", \"11\", \"12\"])"
   ]
  },
  {
   "cell_type": "markdown",
   "id": "2195e3d6",
   "metadata": {},
   "source": [
    "#### Отобразим новые скорости системы на одном графике с границей Шеннона"
   ]
  },
  {
   "cell_type": "code",
   "execution_count": 1349,
   "id": "ef4f9aa8",
   "metadata": {
    "scrolled": false
   },
   "outputs": [
    {
     "data": {
      "image/png": "[encoded data removed]",
      "text/plain": [
       "<Figure size 1080x648 with 1 Axes>"
      ]
     },
     "metadata": {
      "needs_background": "light"
     },
     "output_type": "display_data"
    }
   ],
   "source": [
    "plt.figure(figsize=(15, 9))\n",
    "plt.plot(R_massive, C_calc, label = r'$Граница\\ Шеннона$')\n",
    "plt.plot(rSot_calc, C_sys, label = r'$Скорость\\ системы$')\n",
    "plt.xlabel(r'$R\\ [м]$')\n",
    "plt.ylabel(r'C [кбит/c]')\n",
    "plt.title(r'$Оценка\\ скорости\\ системы$')\n",
    "plt.legend(loc = 'best', fontsize = 12)\n",
    "plt.grid(True)\n",
    "plt.show()"
   ]
  },
  {
   "cell_type": "markdown",
   "id": "18f5628a",
   "metadata": {},
   "source": [
    "## 10. Разработка структуры сигнала "
   ]
  },
  {
   "cell_type": "markdown",
   "id": "8eb1da14",
   "metadata": {},
   "source": [
    "Структура сигнала включает в себя:\n",
    "* Длительность символа сообщения\n",
    "* Метод разделения абонентов в соте (секторе)\n",
    "* Метод разделения сот (секторов)"
   ]
  },
  {
   "cell_type": "markdown",
   "id": "99a76c12",
   "metadata": {},
   "source": [
    "Перед непосредственной разработкой структуры сигнала оценим количество реживом работы сотовой системы связи, "
   ]
  },
  {
   "cell_type": "code",
   "execution_count": 101,
   "id": "c94d0001",
   "metadata": {},
   "outputs": [],
   "source": [
    "def numberLvl(__SNR):\n",
    "    __SNR = np.array(__SNR)\n",
    "    __N = np.sqrt(__SNR + 1)\n",
    "    for i in range(len(__N)):\n",
    "        if(__N[i] < 2):\n",
    "            __N[i] = 1\n",
    "        elif(__N[i] < 4):\n",
    "            __N[i] = 2\n",
    "        elif(__N[i] < 8):\n",
    "            __N[i] = 4\n",
    "        elif(__N[i] < 16):\n",
    "            __N[i] = 8\n",
    "        elif(__N[i] < 32):\n",
    "            __N[i] = 16\n",
    "        elif(__N[i] < 64):\n",
    "            __N[i] = 32\n",
    "        elif(__N[i] < 128):\n",
    "            __N[i] = 64\n",
    "        elif(__N[i] < 256):\n",
    "            __N[i] = 128\n",
    "        else:\n",
    "            __N[i] = 256\n",
    "    return __N"
   ]
  },
  {
   "cell_type": "code",
   "execution_count": 102,
   "id": "790523b5",
   "metadata": {},
   "outputs": [],
   "source": [
    "def shannonLvl(__dF_ch, __k_pr, __N_res, __m_v, __N):\n",
    "    dF = __dF_ch / __k_pr\n",
    "    mimo = min([__m_v, __N_res])\n",
    "    return 2 * dF * mimo * math.log2(__N) / 1000"
   ]
  },
  {
   "cell_type": "code",
   "execution_count": 106,
   "id": "942a0581",
   "metadata": {},
   "outputs": [],
   "source": [
    "N_lvl = numberLvl(SNR_calc)\n",
    "C_calc_lvl = [shannonLvl(dF_ch, k_pr, N_res, m_v, i) for i in N_lvl]\n",
    "#print(C_calc_lvl)"
   ]
  },
  {
   "cell_type": "code",
   "execution_count": 109,
   "id": "e2540ba3",
   "metadata": {},
   "outputs": [
    {
     "data": {
      "image/png": "[encoded data removed]",
      "text/plain": [
       "<Figure size 1080x648 with 1 Axes>"
      ]
     },
     "metadata": {
      "needs_background": "light"
     },
     "output_type": "display_data"
    }
   ],
   "source": [
    "plt.figure(figsize=(15, 9))\n",
    "plt.plot(R_massive, C_calc, label = r'$Граница\\ Шеннона$')\n",
    "plt.plot(R_massive, C_calc_lvl, label = r'$Скоростные\\ режимы$')\n",
    "plt.plot(R_massive, [C/1000 for i in R_massive], label = r'$Требуемая\\ скорость$')\n",
    "plt.xlabel(r'$R\\ [м]$')\n",
    "plt.ylabel(r'C [кбит/c]')\n",
    "plt.title(r'$Оценка\\ скорости\\ системы$')\n",
    "plt.legend(loc = 'best', fontsize = 12)\n",
    "plt.grid(True)\n",
    "\n",
    "plt.xlim(0, 650)\n",
    "plt.xticks(range(0,650, 50))\n",
    "plt.show()"
   ]
  },
  {
   "cell_type": "markdown",
   "id": "56b353dd",
   "metadata": {},
   "source": [
    "Из приведённой графической зависимости можно выделить 4 режима (для обеспечения реализуемой тактовой частоты):\n",
    "\n",
    "* В случае работы с модуляцией 16QAM\n",
    "* В случае работы с модуляцией 32QAM\n",
    "* В случае работы с модуляцией 64QAM\n",
    "* В случае работы с модуляцией 128QAM"
   ]
  },
  {
   "cell_type": "code",
   "execution_count": 123,
   "id": "e5d2cd6a",
   "metadata": {},
   "outputs": [],
   "source": [
    "N_lvl_count = [4, 5, 6, 7] # 16 32 64 128"
   ]
  },
  {
   "cell_type": "markdown",
   "id": "033ac6d0",
   "metadata": {},
   "source": [
    "Оценив все возможные режимы работы определим минимальный шаг времени в системе, но перед этим следует оценить дилтельность символа.\n",
    "* В случае использования `FDMA` длительность символа определяется эффективной шириной канала\n",
    "* В случае использования `TDMA` или `CDMA` длительность символа определяется шириной частотного диапазона системы"
   ]
  },
  {
   "cell_type": "code",
   "execution_count": 118,
   "id": "b23fc4f2",
   "metadata": {},
   "outputs": [],
   "source": [
    "def lcm(a, b):\n",
    "    return (a * b) // math.gcd(a, b)\n",
    "\n",
    "def lcmMassive(massive):\n",
    "    buf = massive[0]\n",
    "    for i in range(1, len(massive)):\n",
    "        buf = lcm(buf, massive[i])\n",
    "    return buf"
   ]
  },
  {
   "cell_type": "code",
   "execution_count": 119,
   "id": "64587598",
   "metadata": {},
   "outputs": [],
   "source": [
    "def taySym(flag):\n",
    "    if flag == \"FDMA\":\n",
    "        return 1/dF_ch\n",
    "    else:\n",
    "        return 1/dF_sys "
   ]
  },
  {
   "cell_type": "code",
   "execution_count": 120,
   "id": "1a1c8971",
   "metadata": {},
   "outputs": [
    {
     "name": "stdout",
     "output_type": "stream",
     "text": [
      "2.9105726551699046e-05\n"
     ]
    }
   ],
   "source": [
    "tay_sym = taySym(\"FDMA\")\n",
    "print(tay_sym)"
   ]
  },
  {
   "cell_type": "markdown",
   "id": "4d2cf60e",
   "metadata": {},
   "source": [
    "Так же оценим время тактирования, которое должно быть кратно длительности бита в символе для любого режима используемого в системе. "
   ]
  },
  {
   "cell_type": "code",
   "execution_count": 121,
   "id": "5e382a06",
   "metadata": {},
   "outputs": [],
   "source": [
    "def tactsFunc(__tay_sym, __N_lvl_count):\n",
    "    return __tay_sym / lcmMassive(__N_lvl_count)"
   ]
  },
  {
   "cell_type": "code",
   "execution_count": 124,
   "id": "5003fb17",
   "metadata": {},
   "outputs": [
    {
     "name": "stdout",
     "output_type": "stream",
     "text": [
      "6.929934893261678e-08\n"
     ]
    }
   ],
   "source": [
    "tacts = tactsFunc(tay_sym, N_lvl_count)\n",
    "print(tacts)"
   ]
  },
  {
   "cell_type": "code",
   "execution_count": 125,
   "id": "fe1f7ae6",
   "metadata": {},
   "outputs": [
    {
     "data": {
      "text/plain": [
       "420"
      ]
     },
     "execution_count": 125,
     "metadata": {},
     "output_type": "execute_result"
    }
   ],
   "source": [
    "lcmMassive(N_lvl_count)"
   ]
  },
  {
   "cell_type": "markdown",
   "id": "09bb8a38",
   "metadata": {},
   "source": [
    "Так же следует провести коррекцию времени символа в зависимости от используемого режима многопользовательского доступа"
   ]
  },
  {
   "cell_type": "markdown",
   "id": "e277b12f",
   "metadata": {},
   "source": [
    "$\\left[ \n",
    "      \\begin{gathered} \n",
    "        \\tau_{с} + \\tau_{такт} \\cdot [floor(\\frac{\\tau_{рас. max}}{\\tau_{Т}})+ 1], &  если\\ используется\\ FDMA \\\\ \n",
    "        \\leq \\tau_{рас. min}, & если\\ используется \\ CDMA \\\\  \n",
    "        = \\tau_{симв}, & если\\ используется \\ TDMA, \\ но\\ следует\\ добавить\\ защитные\\ интервалы\\\n",
    "        \\tau_{защ} = N_{з} \\cdot \\tau_{такта} \\\\ \n",
    "      \\end{gathered} \n",
    "\\right.$"
   ]
  },
  {
   "cell_type": "markdown",
   "id": "07990257",
   "metadata": {},
   "source": [
    "Для `TDMA` следует выбирать такое `время защитного интервала`, чтобы оно было больше времени рассеивания максимального. Защитный интервал можно добавлять двумя путями:\n",
    "\n",
    "* Добавление к каждому симоволу\n",
    "* Добавление перед каждым слотом\n",
    "\n",
    "Добавление к каждому символу является избыточным подходом. На практике обычно используется добавление к слотам.\n",
    "\n",
    "Приведём таблицу типовых времён рассеивания, вызванное многолучевым распространением сигнала для различных видов местности:"
   ]
  },
  {
   "cell_type": "markdown",
   "id": "565e48dd",
   "metadata": {},
   "source": [
    "|           Параметр          |Город  |Пригород  |   Здание   |\n",
    "|-----------------------------|-------|----------|------------|\n",
    "|$\\tau$<sub>рас.max</sub>, мкс|  5…12 |    1…7   |   0.1…0.5  |\n",
    "|$\\tau$<sub>рас.ср</sub>, мкс |   1.5 |    0.5   |    <0.1    |\n",
    "|         В, МГц              | 0.083 |    0.4   |    >1.25   |\n",
    "|  скорость, кбит/с           | 660-83| 1980-142 | 10000-1980 |"
   ]
  },
  {
   "cell_type": "markdown",
   "id": "b84e1488",
   "metadata": {},
   "source": [
    "Оценим защитный интервал в случае использования FDMA"
   ]
  },
  {
   "cell_type": "code",
   "execution_count": 126,
   "id": "c8301fc1",
   "metadata": {},
   "outputs": [],
   "source": [
    "t_dif_max = 12e-6"
   ]
  },
  {
   "cell_type": "code",
   "execution_count": 127,
   "id": "4b077f43",
   "metadata": {},
   "outputs": [],
   "source": [
    "def floor(__m):\n",
    "    return int(__m)\n",
    "\n",
    "def protectiveTDMA(__tacts, __t_dif_max, __tay_sym):\n",
    "    buf = __tacts\n",
    "    while(buf < __t_dif_max):\n",
    "        buf += __tacts\n",
    "    buf -= __tacts\n",
    "    return __tay_sym + buf\n",
    "\n",
    "def protectiveFDMA(__tacts, __t_dif_max, __tay_sym):\n",
    "    buf = __tay_sym + __tacts * (floor(__t_dif_max / __tacts) + 1)\n",
    "    return buf"
   ]
  },
  {
   "cell_type": "code",
   "execution_count": 154,
   "id": "5745ae53",
   "metadata": {},
   "outputs": [
    {
     "name": "stdout",
     "output_type": "stream",
     "text": [
      "4.1163813265974366e-05\n"
     ]
    }
   ],
   "source": [
    "#tay_sym_recalc = protectiveTDMA(tacts, t_dif_max, tay_sym)\n",
    "tay_sym_recalc = protectiveFDMA(tacts, t_dif_max, tay_sym)\n",
    "print(tay_sym_recalc)"
   ]
  },
  {
   "cell_type": "code",
   "execution_count": 155,
   "id": "eb53def7",
   "metadata": {},
   "outputs": [
    {
     "data": {
      "text/plain": [
       "56.682856251799805"
      ]
     },
     "execution_count": 155,
     "metadata": {},
     "output_type": "execute_result"
    }
   ],
   "source": [
    "shannon(1/tay_sym_recalc, k_pr, N_res, m_v, SNR_N)"
   ]
  },
  {
   "cell_type": "code",
   "execution_count": 156,
   "id": "10ff4282",
   "metadata": {},
   "outputs": [
    {
     "data": {
      "text/plain": [
       "13496.212121212122"
      ]
     },
     "execution_count": 156,
     "metadata": {},
     "output_type": "execute_result"
    }
   ],
   "source": [
    "1/tay_sym_recalc/k_pr"
   ]
  },
  {
   "cell_type": "markdown",
   "id": "3e90b40c",
   "metadata": {},
   "source": [
    "Разрабатываемая система связи предполагает кадровое разделение информации. В домашнем задании рассматривается разработка структуры канала «вниз» (БС -> АС) соответственно необходимо сформировать параметры не менее чем двух каналов:\n",
    "\n",
    "* Канала данных\n",
    "* Канала управления"
   ]
  },
  {
   "cell_type": "markdown",
   "id": "ec67a453",
   "metadata": {},
   "source": [
    "Тем самым можно изобразить пример структуры сигнала для FDMA/TDMA (показан ниже), F<sub>d</sub> – канал данных, F<sub>c</sub> – канал управления, первый индекс – номер базовой станции в кластере, второй индекс – номер канала в пределах базовой станции.\n",
    "\n",
    "В случае использования TDMA можно наблюдать частотно-временную панораму (ЧВП), то есть распределение посылок от каждого абонента по всему диапазону, где отправка может осуществляться по любому каналу в пределах одного сектора/кластера в зависимости от занятости канала.\n",
    "\n",
    "Выбор каналов для CDMA и TDMA производится согласно требованиям к многопользовательскому доступу и правилам адресации абонентов."
   ]
  },
  {
   "cell_type": "markdown",
   "id": "dc04b3b4",
   "metadata": {},
   "source": [
    "![Альтернативный текст](signalStructure.png)"
   ]
  },
  {
   "cell_type": "markdown",
   "id": "0333ed3a",
   "metadata": {},
   "source": [
    "Пример структуры кадра канала данных изображён ниже:"
   ]
  },
  {
   "cell_type": "markdown",
   "id": "ad848987",
   "metadata": {},
   "source": [
    "![Альтернативный текст](DataСhannel.png)"
   ]
  },
  {
   "cell_type": "markdown",
   "id": "5157103a",
   "metadata": {},
   "source": [
    "Пример структуры кадра канала управления изображён ниже:"
   ]
  },
  {
   "cell_type": "markdown",
   "id": "9a35ed22",
   "metadata": {},
   "source": [
    "![Альтернативный текст](ControlChannel.png)"
   ]
  },
  {
   "cell_type": "markdown",
   "id": "26050c94",
   "metadata": {},
   "source": [
    "Для расчета параметров нашей системы необходимо рассчитать следующие значения для кадровой структуры сигнала:\n",
    "* Время кадра \n",
    "* Время одного слота \n",
    "* Защитный интервал между слотами\n",
    "* Время ССК (сигнал старта кадра)"
   ]
  },
  {
   "cell_type": "code",
   "execution_count": 157,
   "id": "35301677",
   "metadata": {},
   "outputs": [],
   "source": [
    "def timeFrame(__f0, __tacts):\n",
    "    liambda = 3e8 / __f0\n",
    "    v_max = 250 * 1000 / 3600\n",
    "    max_val = liambda / (2 * v_max) \n",
    "    \n",
    "    buf = __tacts\n",
    "    while(buf < max_val):\n",
    "        buf += __tacts\n",
    "    buf -= __tacts\n",
    "    \n",
    "    print(\"Max Val: \", max_val)\n",
    "    return buf"
   ]
  },
  {
   "cell_type": "code",
   "execution_count": 158,
   "id": "46d79dac",
   "metadata": {},
   "outputs": [
    {
     "name": "stdout",
     "output_type": "stream",
     "text": [
      "Max Val:  0.0010285714285714286\n",
      "0.001028540936857739\n"
     ]
    }
   ],
   "source": [
    "T_frame = timeFrame(f0, tacts)\n",
    "#T_frame = 0.0024\n",
    "print(T_frame)"
   ]
  },
  {
   "cell_type": "code",
   "execution_count": 203,
   "id": "c66a6eac",
   "metadata": {},
   "outputs": [],
   "source": [
    "def T_protSlots(__tay_sym, __t_dif_max):\n",
    "    print(__t_dif_max / __tay_sym)\n",
    "    ceil = int(__t_dif_max / __tay_sym) + 1 \n",
    "    return __tay_sym * ceil"
   ]
  },
  {
   "cell_type": "code",
   "execution_count": 204,
   "id": "5a0876e0",
   "metadata": {},
   "outputs": [
    {
     "name": "stdout",
     "output_type": "stream",
     "text": [
      "0.29151818181818184\n",
      "4.1163813265974366e-05\n"
     ]
    }
   ],
   "source": [
    "T_prot_slots = T_protSlots(tay_sym_recalc, t_dif_max) #tay_sym_recalc\n",
    "print(T_prot_slots)"
   ]
  },
  {
   "cell_type": "code",
   "execution_count": 205,
   "id": "b76b5062",
   "metadata": {},
   "outputs": [],
   "source": [
    "def timeCCK(__tay_sym):\n",
    "    N_cck = 3 # обычно для ССК выделяют не менее 3 символов, чтобы смогли различть от других окон в кадре\n",
    "    return N_cck * __tay_sym"
   ]
  },
  {
   "cell_type": "code",
   "execution_count": 206,
   "id": "81bc602a",
   "metadata": {},
   "outputs": [
    {
     "name": "stdout",
     "output_type": "stream",
     "text": [
      "0.0001234914397979231\n"
     ]
    }
   ],
   "source": [
    "T_cck = timeCCK(tay_sym_recalc)\n",
    "print(T_cck)"
   ]
  },
  {
   "cell_type": "code",
   "execution_count": 207,
   "id": "63b18834",
   "metadata": {},
   "outputs": [],
   "source": [
    "def numberSlots(__T_frame, __b, __T_cck, __tay_prot, __tay_sym, __N_sl):\n",
    "    time = __T_frame - __T_cck\n",
    "    timeSlotsAndProt = __tay_prot + __N_sl * __tay_sym\n",
    "    \n",
    "    slotsInFrame = 1\n",
    "    flag = 0\n",
    "    while(slotsInFrame * (flag * __tay_prot + __N_sl * __tay_sym) < time):\n",
    "        slotsInFrame += 1\n",
    "        flag = 1\n",
    "    slotsInFrame -= 1\n",
    "    \n",
    "    return slotsInFrame\n",
    "\n",
    "def usefulSpeed(__N_sl, __N_slots, __b, __k_ncc, __m_v, __T_frame):\n",
    "    N_b = 1/__b\n",
    "    return (N_b * __N_sl * __N_slots * __k_ncc * __m_v) / (__T_frame * 1000)\n",
    "    "
   ]
  },
  {
   "cell_type": "code",
   "execution_count": 237,
   "id": "355960ed",
   "metadata": {},
   "outputs": [
    {
     "name": "stdout",
     "output_type": "stream",
     "text": [
      "5\n"
     ]
    }
   ],
   "source": [
    "N_sl = 3 # количество символов в слоте \n",
    "n_re = 1/7\n",
    "N_slots = numberSlots(T_frame, n_re, T_cck, T_prot_slots, tay_sym_recalc, N_sl) # количестов слотов \n",
    "print(N_slots)"
   ]
  },
  {
   "cell_type": "code",
   "execution_count": 238,
   "id": "c3787521",
   "metadata": {},
   "outputs": [
    {
     "name": "stdout",
     "output_type": "stream",
     "text": [
      "68.05757310336588\n"
     ]
    }
   ],
   "source": [
    "R_useful = usefulSpeed(N_sl, N_slots, n_re, k_ncc, m_v, T_frame)\n",
    "print(R_useful)"
   ]
  },
  {
   "cell_type": "markdown",
   "id": "9a4c81c0",
   "metadata": {},
   "source": [
    "Чем меньше количество слотов в кадре, тем большей скорости мы можем достичь (не тратим временной ресурс на защитные интервалы). Однако с увеличением числа информационных бит в одном слоте повышается эффект вредного воздействия многолучёвого распространения, тем самым использование слотов с большим количеством информационных бит не оправдывает себя. \n",
    "\n",
    "При уменьшении расстояния абонента от БС возможно переключение на режим большей скорости. Как следствие повышется количество информационных бит в слоте, повышается негативное воздействие многолучёвого распространения. Следует перерасмотреть количество слотов в структуре сигнала. Ниже приведена таблица количества используемых слотов в кадре от скоростного режима:"
   ]
  },
  {
   "cell_type": "markdown",
   "id": "d7ad5dfe",
   "metadata": {},
   "source": [
    "|Расстояние от БС, м | Число уровней | Количество слотов | Количество информационных бит | Полезная скорость, кбит/c |\n",
    "|--------------------|---------------|-------------------|-------------------------------|---------------------------|\n",
    "|      320…760       |       16      |         1         |               84              |           54.4            |\n",
    "|      160…320       |       32      |         2         |               90              |           58.3            |\n",
    "|       80…160       |       64      |         3         |              108              |            70             |\n",
    "|       40…80        |      128      |         5         |              105              |            68             |"
   ]
  },
  {
   "cell_type": "markdown",
   "id": "6aba3b8f",
   "metadata": {},
   "source": [
    "Оценим длительности каждого блока в канале управления:\n",
    "\n",
    "* адрес абонента \n",
    "* режим скорости\n",
    "* handover\n",
    "* номер ответного канала  (совмещение технического запроса и блока вызова)\n",
    "\n",
    "P.S. Вместо отдельного блока вызова абонента допускается учет вызова абонента в блоке номера ответного канала, если номер ответного канала соответствует каналу управления – производится опрос абонента на его наличие, если это канал данных – полагаем что это вызов.\n",
    "\n",
    "Для синхронизации кадра в канале управления можно использовать значение ССК в случае использования `FDMA` или `TDMA`, если в кадре не больше 10 слотов"
   ]
  },
  {
   "cell_type": "markdown",
   "id": "7569fe21",
   "metadata": {},
   "source": [
    "#### Определим количество символов необходимых для записи адреса абонента"
   ]
  },
  {
   "cell_type": "code",
   "execution_count": 239,
   "id": "93fbdb52",
   "metadata": {},
   "outputs": [],
   "source": [
    "def numberSymAd(__N_ab_in_sot, __k_ncc, __b):\n",
    "    N_b = 1/__b\n",
    "    ceil1 = int(math.log2(__N_ab_in_sot)) + 1\n",
    "    ceil2 = int(ceil1 / (__k_ncc * N_b)) + 1\n",
    "    return ceil2"
   ]
  },
  {
   "cell_type": "code",
   "execution_count": 240,
   "id": "baf28c6c",
   "metadata": {},
   "outputs": [
    {
     "name": "stdout",
     "output_type": "stream",
     "text": [
      "4418\n",
      "5\n"
     ]
    }
   ],
   "source": [
    "N_adress = numberSymAd(N_ab_in_sot, k_ncc, b)\n",
    "print(N_ab_in_sot)\n",
    "print(N_adress)"
   ]
  },
  {
   "cell_type": "markdown",
   "id": "bef6d2a4",
   "metadata": {},
   "source": [
    "#### Определим количество символов необходимых для определения скоростного режима"
   ]
  },
  {
   "cell_type": "code",
   "execution_count": 241,
   "id": "570eb2ed",
   "metadata": {},
   "outputs": [],
   "source": [
    "def speedMode(__N_lvl_count, __k_ncc, __b):\n",
    "    N_b = 1/__b\n",
    "    ceil1 = int(math.log2(len(__N_lvl_count))) + 1\n",
    "    ceil2 = int(ceil1 / (__k_ncc * N_b)) + 1\n",
    "    return ceil2"
   ]
  },
  {
   "cell_type": "code",
   "execution_count": 242,
   "id": "169377a0",
   "metadata": {},
   "outputs": [
    {
     "name": "stdout",
     "output_type": "stream",
     "text": [
      "2\n"
     ]
    }
   ],
   "source": [
    "N_mode = speedMode(N_lvl_count, k_ncc, b)\n",
    "print(N_mode)"
   ]
  },
  {
   "cell_type": "markdown",
   "id": "6aa744fa",
   "metadata": {},
   "source": [
    "#### Определим количество символов необходимых для определения канала управления"
   ]
  },
  {
   "cell_type": "code",
   "execution_count": 243,
   "id": "554619bd",
   "metadata": {},
   "outputs": [],
   "source": [
    "def channelManagement(__M, __k_ncc, __b):\n",
    "    N_b = 1/__b\n",
    "    ceil1 = int(math.log2(__M)) + 1\n",
    "    ceil2 = int(ceil1 / (__k_ncc * N_b)) + 1\n",
    "    return ceil2"
   ]
  },
  {
   "cell_type": "code",
   "execution_count": 244,
   "id": "c7cc9172",
   "metadata": {},
   "outputs": [
    {
     "name": "stdout",
     "output_type": "stream",
     "text": [
      "4\n"
     ]
    }
   ],
   "source": [
    "N_ch_man = channelManagement(M, k_ncc, b)\n",
    "print(N_ch_man)"
   ]
  },
  {
   "cell_type": "markdown",
   "id": "9d285d0c",
   "metadata": {},
   "source": [
    "#### Определим количество символов необходимых для определения handover"
   ]
  },
  {
   "cell_type": "code",
   "execution_count": 245,
   "id": "783b95e2",
   "metadata": {},
   "outputs": [],
   "source": [
    "def handover(__N_adress, __N_cl, __N_sec, __k_ncc, __b):\n",
    "    N_b = 1/__b\n",
    "    ceil1 = int(math.log2(__N_cl * __N_sec)) + 1\n",
    "    ceil2 = int(ceil1 / (__k_ncc * N_b)) + 1\n",
    "    return __N_adress + ceil2"
   ]
  },
  {
   "cell_type": "code",
   "execution_count": 246,
   "id": "c6626068",
   "metadata": {},
   "outputs": [
    {
     "name": "stdout",
     "output_type": "stream",
     "text": [
      "6\n"
     ]
    }
   ],
   "source": [
    "N_handover = handover(N_adress, N_cl, N_sec, k_ncc, b)\n",
    "print(N_handover)"
   ]
  },
  {
   "cell_type": "markdown",
   "id": "022fbd7a",
   "metadata": {},
   "source": [
    "Общее количество символом для обеспечения блоков управления:"
   ]
  },
  {
   "cell_type": "code",
   "execution_count": 251,
   "id": "2c82540b",
   "metadata": {},
   "outputs": [
    {
     "name": "stdout",
     "output_type": "stream",
     "text": [
      "0.0006997848255215643\n",
      "0.001028540936857739\n"
     ]
    }
   ],
   "source": [
    "N_man = N_adress + N_mode + N_ch_man + N_handover\n",
    "T_man_slots = tay_sym_recalc * N_man\n",
    "print(T_man_slots)\n",
    "print(T_frame)"
   ]
  },
  {
   "cell_type": "code",
   "execution_count": 248,
   "id": "66b73732",
   "metadata": {},
   "outputs": [
    {
     "name": "stdout",
     "output_type": "stream",
     "text": [
      "Выделенное время в канале управление на служеюные блоки: 0.0008644400785854618\n",
      "Поместилась ли вся служебная часть в кадр ? True\n"
     ]
    }
   ],
   "source": [
    "T_man = T_man_slots + T_prot_slots + T_cck\n",
    "print(\"Выделенное время в канале управление на служебные блоки:\", T_man)\n",
    "print(\"Поместилась ли вся служебная часть в кадр ?\", T_man < T_frame)"
   ]
  },
  {
   "cell_type": "code",
   "execution_count": 255,
   "id": "616e55c0",
   "metadata": {},
   "outputs": [],
   "source": [
    "N_ab_in_ch_control = 1"
   ]
  },
  {
   "cell_type": "markdown",
   "id": "6d7518e1",
   "metadata": {},
   "source": [
    "Дополнительно к обязательным частям системы управления и передачи данных необходимо разместить пилот-сигнал, для этого необходимо оценить его минимальную длительность:\n",
    "\n",
    "$ \n",
    "\\begin{cases}\n",
    "  T_{pilot} \\geq \\tau_{символа} \\cdot ceil(\\frac{ceil(\\log_2 (N_{бит/блок}) \\cdot b \\cdot B_{реж.ск.})}{k_{ПУ}}); \\\\\n",
    "  T_{pilot} = k \\cdot \\tau_{символа},\\ k \\in N.  \n",
    "\\end{cases}\n",
    "$"
   ]
  },
  {
   "cell_type": "markdown",
   "id": "f8d3b08a",
   "metadata": {},
   "source": [
    "B<sub>реж.ск.</sub> – базой сигнала соответствующая режиму скорости передачи данных."
   ]
  },
  {
   "cell_type": "markdown",
   "id": "707a938a",
   "metadata": {},
   "source": [
    "Расположение пилот-сигнала допустимо в следующих вариантах:\n",
    "\n",
    ">В начале кадра управления абонентами для всех абонентов, тогда пилот сигнала считается общим для всех абонентов кадра управления и допустимо использовать наибольшую базу сигналов в системе;\n",
    "\n",
    ">В начале блока управления для соответствующего абонента, в этом случае база сигнала должна соответствовать режиму скорости для соответствующего абонента, а выделяемый в кадре временной ресурс соответствует наименьшей возможной;\n",
    "\n",
    ">В начале кадра данных, соответственно база соответствует режиму скорости, однако необходимо размер блока данных соответственно сократится."
   ]
  },
  {
   "cell_type": "markdown",
   "id": "2a121492",
   "metadata": {},
   "source": [
    "В нашем случае количество слотов не превышает 10, следовательно можно в качестве пилот сигнала использовать ССК"
   ]
  },
  {
   "cell_type": "code",
   "execution_count": 252,
   "id": "bc94a0fb",
   "metadata": {},
   "outputs": [],
   "source": [
    "def pollingTime(__T_frame, __M_tech, __N_ab_in_ch_control, __N_ab_in_sot):\n",
    "    first = __T_frame / (__N_ab_in_ch_control * __M_tech)\n",
    "    return first * __N_ab_in_sot"
   ]
  },
  {
   "cell_type": "markdown",
   "id": "04b363a8",
   "metadata": {},
   "source": [
    "Введём количество технических каналов и произведём пересчёт параметров:"
   ]
  },
  {
   "cell_type": "code",
   "execution_count": 262,
   "id": "a9a5dcec",
   "metadata": {},
   "outputs": [
    {
     "name": "stdout",
     "output_type": "stream",
     "text": [
      "Число абонентов в соте:  4374\n",
      "Вероятность отказа расчётная:  8.647649569777892e-07\n",
      "Вероятность отказа по условию :  8.7e-07\n",
      "\n",
      "Площадь соты составляет [кв.м]:  941868.0\n",
      "Радиус соты составляет [м]:  602.1006246694951\n",
      "\n",
      "Число базовых станций, обеспечивающих покрытие заданной зоны 343\n",
      "\n",
      "L0: 94.47953963634234\n",
      "alfa: 0.4435887794172979\n",
      "Потери на распространение составляют:  26.40314397319088 [дБ]\n",
      "\n",
      "Потери: 1203.1351009092841\n",
      "Суммарная мощность подводимая к БС: 1.073756241084522 [Вт]\n"
     ]
    }
   ],
   "source": [
    "M_tech = 3\n",
    "\n",
    "_N_ab_in_sot = 1\n",
    "\n",
    "while(1):\n",
    "    _A_sys = _N_ab_in_sot * A_ab\n",
    "    _P_d_calc = Erlang(M-M_tech, _A_sys)\n",
    "    if(_P_d_calc < P_d):\n",
    "        _N_ab_in_sot += 1\n",
    "    else:\n",
    "        break\n",
    "\n",
    "_N_ab_in_sot -= 1\n",
    "_A_sys = _N_ab_in_sot * A_ab\n",
    "_P_d_calc = Erlang(M-M_tech, _A_sys)\n",
    "\n",
    "print(\"Число абонентов в соте: \", _N_ab_in_sot)\n",
    "print(\"Вероятность отказа расчётная: \", _P_d_calc)\n",
    "print(\"Вероятность отказа по условию : \", P_d)\n",
    "\n",
    "print()\n",
    "\n",
    "_S_sot, _R_sot = SquareSot(_A_sys, A_ab, N_sec, L1, L2, N_ab)\n",
    "\n",
    "print()\n",
    "\n",
    "_N_sot = numberBS(A_ab, _A_sys, N_ab, N_sec)\n",
    "\n",
    "print()\n",
    "\n",
    "_loss = propagationLoss(f0, h_bs, _R_sot, h_ab, \"City\") # [City, Suburb, Countryside]\n",
    "print(\"Потери на распространение составляют: \", _loss, \"[дБ]\")\n",
    "\n",
    "print()\n",
    "\n",
    "_P_trans = powerTransmitter(SNR_N, M-M_tech, N_sec, _R_sot, G_tran_N, f0, _loss, L_ob, C, T_sh, m_p) \n",
    "print(\"Суммарная мощность подводимая к БС:\", _P_trans, \"[Вт]\") # суммарная мощность передатчиков БС не более 10...50 Вт"
   ]
  },
  {
   "cell_type": "code",
   "execution_count": 263,
   "id": "86811ff8",
   "metadata": {},
   "outputs": [
    {
     "name": "stdout",
     "output_type": "stream",
     "text": [
      "1.4996126859385837\n"
     ]
    }
   ],
   "source": [
    "T_polling = pollingTime(T_frame, M_tech, N_ab_in_ch_control, _N_ab_in_sot)\n",
    "print(T_polling)"
   ]
  },
  {
   "cell_type": "markdown",
   "id": "5b089f8d",
   "metadata": {},
   "source": [
    "Время опроса должно быть как минимум меньше 3.5 с. \n",
    "\n",
    "Построенная система связи удовлетворяет заданным требованиям в соответствии с вариантом "
   ]
  },
  {
   "cell_type": "code",
   "execution_count": null,
   "id": "fbdb089f",
   "metadata": {},
   "outputs": [],
   "source": []
  }
 ],
 "metadata": {
  "kernelspec": {
   "display_name": "Python 3 (ipykernel)",
   "language": "python",
   "name": "python3"
  },
  "language_info": {
   "codemirror_mode": {
    "name": "ipython",
    "version": 3
   },
   "file_extension": ".py",
   "mimetype": "text/x-python",
   "name": "python",
   "nbconvert_exporter": "python",
   "pygments_lexer": "ipython3",
   "version": "3.9.12"
  }
 },
 "nbformat": 4,
 "nbformat_minor": 5
}
